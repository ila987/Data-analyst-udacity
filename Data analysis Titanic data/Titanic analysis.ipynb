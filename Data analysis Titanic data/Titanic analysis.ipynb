{
 "cells": [
  {
   "cell_type": "markdown",
   "metadata": {},
   "source": [
    "# Analysis Titanic data"
   ]
  },
  {
   "cell_type": "markdown",
   "metadata": {},
   "source": [
    "This is an analysis work done on the Titanic data downloaded from Kaggle. We will focus mostly on analysing variables and finding some interesting questions to answer. Few statistical models will be used, the analysis will be mostly done using different kinds of graphs and grouping together variables. "
   ]
  },
  {
   "cell_type": "markdown",
   "metadata": {},
   "source": [
    "1. Let's have a look at the data..."
   ]
  },
  {
   "cell_type": "code",
   "execution_count": 1,
   "metadata": {
    "collapsed": false
   },
   "outputs": [
    {
     "name": "stdout",
     "output_type": "stream",
     "text": [
      "       PassengerId    Survived      Pclass         Age       SibSp  \\\n",
      "count   891.000000  891.000000  891.000000  714.000000  891.000000   \n",
      "mean    446.000000    0.383838    2.308642   29.699118    0.523008   \n",
      "std     257.353842    0.486592    0.836071   14.526497    1.102743   \n",
      "min       1.000000    0.000000    1.000000    0.420000    0.000000   \n",
      "25%     223.500000    0.000000    2.000000   20.125000    0.000000   \n",
      "50%     446.000000    0.000000    3.000000   28.000000    0.000000   \n",
      "75%     668.500000    1.000000    3.000000   38.000000    1.000000   \n",
      "max     891.000000    1.000000    3.000000   80.000000    8.000000   \n",
      "\n",
      "            Parch        Fare  \n",
      "count  891.000000  891.000000  \n",
      "mean     0.381594   32.204208  \n",
      "std      0.806057   49.693429  \n",
      "min      0.000000    0.000000  \n",
      "25%      0.000000    7.910400  \n",
      "50%      0.000000   14.454200  \n",
      "75%      0.000000   31.000000  \n",
      "max      6.000000  512.329200  \n"
     ]
    }
   ],
   "source": [
    "import numpy as np \n",
    "import pandas as pd\n",
    "import matplotlib.pyplot as plt\n",
    "\n",
    "dataset = pd.read_csv('Titanic.csv')\n",
    "\n",
    "print(dataset.describe())"
   ]
  },
  {
   "cell_type": "markdown",
   "metadata": {},
   "source": [
    "Possible questions that we might be interesting to answer fot this data:\n",
    "- general information about passangers (how many male/female, how many people for each class, average-max-min age, how much each class paid the ticket)\n",
    "- information about who died/survived (how many for each class, male/female, average age, cabin?)\n",
    "- analysis of what influenced the most the fact of living/dying"
   ]
  },
  {
   "cell_type": "markdown",
   "metadata": {},
   "source": [
    "## Data cleaning"
   ]
  },
  {
   "cell_type": "code",
   "execution_count": 2,
   "metadata": {
    "collapsed": false
   },
   "outputs": [
    {
     "name": "stdout",
     "output_type": "stream",
     "text": [
      "PassengerId    False\n",
      "Survived       False\n",
      "Pclass         False\n",
      "Name           False\n",
      "Sex            False\n",
      "Age             True\n",
      "SibSp          False\n",
      "Parch          False\n",
      "Ticket         False\n",
      "Fare           False\n",
      "Cabin           True\n",
      "Embarked        True\n",
      "dtype: bool\n",
      "\n",
      "\n",
      "Check value counts for embarked column\n",
      "S      644\n",
      "C      168\n",
      "Q       77\n",
      "NaN      2\n",
      "Name: Embarked, dtype: int64\n",
      "\n",
      "\n",
      "PassengerId    False\n",
      "Survived       False\n",
      "Pclass         False\n",
      "Name           False\n",
      "Sex            False\n",
      "Age            False\n",
      "SibSp          False\n",
      "Parch          False\n",
      "Ticket         False\n",
      "Fare           False\n",
      "Cabin           True\n",
      "Embarked       False\n",
      "dtype: bool\n"
     ]
    }
   ],
   "source": [
    "#check if in any column there are some NA\n",
    "print(dataset.isnull().any())\n",
    "\n",
    "\n",
    "#change NA in age with the mean\n",
    "mean_age = dataset['Age'].mean()\n",
    "dataset['Age'].fillna(mean_age, inplace=True)\n",
    "\n",
    "print('\\n')\n",
    "print('Check value counts for embarked column')\n",
    "print(dataset['Embarked'].value_counts(dropna= False, ascending =False))\n",
    "\n",
    "#assign Na in embarked to the most common value\n",
    "dataset['Embarked'].fillna('S', inplace=True)\n",
    "\n",
    "#check that now everything is as expected - just na in cabin\n",
    "print('\\n')\n",
    "print(dataset.isnull().any())"
   ]
  },
  {
   "cell_type": "markdown",
   "metadata": {},
   "source": [
    "Here we have noticed that 3 columns have NA values: age, cabin and embarked. For just the column cabin makes sense to have some NA, because the majority of  passengers did not have a cabin.\n",
    "For the column Age we have changed NA values considering the mean of this column. This will surely give some modification in our analysis.\n",
    "For embarked just 2 values were set to NA: we decided to put them to the most common value for this column 'S'.\n"
   ]
  },
  {
   "cell_type": "code",
   "execution_count": 3,
   "metadata": {
    "collapsed": false
   },
   "outputs": [],
   "source": [
    "#create some helper functions\n",
    "def aggregate_data(dataset, var1, var2, aggregation):\n",
    "    return dataset.groupby(var1).agg({var2:aggregation})\n",
    "\n",
    "def aggregate_multiple_data(dataset, var1, var2, var3, aggregation):\n",
    "    return dataset.groupby([var1, var2]).agg({var3:aggregation})\n"
   ]
  },
  {
   "cell_type": "markdown",
   "metadata": {},
   "source": [
    "## General information about the passengers"
   ]
  },
  {
   "cell_type": "markdown",
   "metadata": {},
   "source": [
    "### Number of passengers "
   ]
  },
  {
   "cell_type": "code",
   "execution_count": 4,
   "metadata": {
    "collapsed": false
   },
   "outputs": [
    {
     "name": "stdout",
     "output_type": "stream",
     "text": [
      "The total number of passenger was 891\n",
      "\n",
      "\n",
      "        PassengerId\n",
      "Sex                \n",
      "female          314\n",
      "male            577\n"
     ]
    },
    {
     "data": {
      "image/png": "[encoded data removed]",
      "text/plain": [
       "<matplotlib.figure.Figure at 0x114205390>"
      ]
     },
     "metadata": {},
     "output_type": "display_data"
    }
   ],
   "source": [
    "tot_pass = dataset['PassengerId'].count()\n",
    "print('The total number of passenger was {}'.format(tot_pass))\n",
    "print('\\n')\n",
    "\n",
    "male_female = aggregate_data(dataset, 'Sex', 'PassengerId', 'count')\n",
    "print(male_female)\n",
    "\n",
    "%matplotlib inline\n",
    "ax = male_female.plot(kind='bar')\n",
    "ax.set_xlabel('Sex of the passengers')\n",
    "ax.set_ylabel('Number of the passengers')\n",
    "ax.set_title('Distribution of gender in passenger')\n",
    "ax.legend_.remove()"
   ]
  },
  {
   "cell_type": "markdown",
   "metadata": {},
   "source": [
    "This first analysis shows the total number of passengers, 891, and the distribution of male vs female. From the histogram above, we can definitely see a much higher number of men than women."
   ]
  },
  {
   "cell_type": "markdown",
   "metadata": {},
   "source": [
    "### Passengers for each class"
   ]
  },
  {
   "cell_type": "code",
   "execution_count": 5,
   "metadata": {
    "collapsed": false
   },
   "outputs": [
    {
     "name": "stdout",
     "output_type": "stream",
     "text": [
      "Percentage of passengers for each class\n",
      "           Pclass\n",
      "Pclass           \n",
      "1       10.500729\n",
      "2       17.890131\n",
      "3       71.609140\n",
      "\n",
      "\n",
      "Percentage of male and female of passengers for each class\n",
      "               PassengerId\n",
      "Pclass Sex                \n",
      "1      female    44.236498\n",
      "       male      55.763502\n",
      "2      female    41.040265\n",
      "       male      58.959735\n",
      "3      female    26.694957\n",
      "       male      73.305043\n",
      "\n",
      "\n"
     ]
    },
    {
     "data": {
      "text/plain": [
       "<matplotlib.text.Text at 0x116953198>"
      ]
     },
     "execution_count": 5,
     "metadata": {},
     "output_type": "execute_result"
    },
    {
     "data": {
      "image/png": "[encoded data removed]",
      "text/plain": [
       "<matplotlib.figure.Figure at 0x11425e5f8>"
      ]
     },
     "metadata": {},
     "output_type": "display_data"
    }
   ],
   "source": [
    "print('Percentage of passengers for each class')\n",
    "pclass = aggregate_data(dataset, 'Pclass', 'Pclass', 'sum')\n",
    "pclass_percentage = pclass.apply(lambda x:100 * x / float(x.sum()))\n",
    "print(pclass_percentage)\n",
    "print('\\n')\n",
    "\n",
    "print('Percentage of male and female of passengers for each class')\n",
    "pclass_sex_grouped = aggregate_multiple_data(dataset, 'Pclass', 'Sex', 'PassengerId', 'sum')\n",
    "pclass_sex = pclass_sex_grouped.groupby(level=0).apply(lambda x:\n",
    "                                                       100 * x / float(x.sum()))\n",
    "print(pclass_sex)\n",
    "print('\\n')\n",
    "\n",
    "%matplotlib inline\n",
    "\n",
    "ax = pclass_sex.unstack()['PassengerId'].plot(kind='bar')\n",
    "ax.set_xlabel('Percentage of male/female in each class')\n",
    "ax.set_ylabel('%')\n",
    "ax.set_title('Distribution of gender in each class')\n"
   ]
  },
  {
   "cell_type": "markdown",
   "metadata": {},
   "source": [
    "Here we have analysed a bit more in details the distribution of class and gender. It's clear that the majority of the passengers were in the 3rd class, the cheapest, and a few were distributed between 1st and 2nd. \n",
    "Then, we have also analysed the gender distribution: in each class we have a clear majority of males, which is more important in the 3rd class. "
   ]
  },
  {
   "cell_type": "markdown",
   "metadata": {},
   "source": [
    "### Average age "
   ]
  },
  {
   "cell_type": "code",
   "execution_count": 6,
   "metadata": {
    "collapsed": false
   },
   "outputs": [
    {
     "name": "stdout",
     "output_type": "stream",
     "text": [
      "Minimum age 0.42\n",
      "Maximum age 80.0\n",
      "Mean age 29.699117647058763\n",
      "\n",
      "\n",
      "Average age for class\n",
      "                     Age\n",
      "Pclass Sex              \n",
      "1      female  34.141405\n",
      "       male    39.287717\n",
      "2      female  28.748661\n",
      "       male    30.653908\n",
      "3      female  24.068493\n",
      "       male    27.372153\n"
     ]
    },
    {
     "data": {
      "image/png": "[encoded data removed]",
      "text/plain": [
       "<matplotlib.figure.Figure at 0x114370c50>"
      ]
     },
     "metadata": {},
     "output_type": "display_data"
    }
   ],
   "source": [
    "%matplotlib inline\n",
    "ax =dataset['Age'].hist()\n",
    "ax.set_xlabel('Age')\n",
    "ax.set_ylabel('Count')\n",
    "ax.set_title('Distribution of Age')\n",
    "\n",
    "age = dataset['Age']\n",
    "\n",
    "age_min = age.min()\n",
    "age_max = age.max()\n",
    "age_mean = age.mean()\n",
    "\n",
    "print('Minimum age {}'.format(age_min))\n",
    "print('Maximum age {}'.format(age_max))\n",
    "print('Mean age {}'.format(age_mean))\n",
    "print('\\n')\n",
    "\n",
    "print('Average age for class')\n",
    "pclass_age_grouped = aggregate_multiple_data(dataset, 'Pclass', 'Sex', 'Age','mean')\n",
    "print(pclass_age_grouped)\n"
   ]
  },
  {
   "cell_type": "markdown",
   "metadata": {},
   "source": [
    "Few analysis on age: as we can clearly see from the distribution, age follows has right skewed distribution. Most probably this is due to the fact that we substituded null values with the mean.\n",
    "The average mean of passengers is almost 30y and considering that the majority of people were emigrating to US to find a better fortune, this definitely makes sense. "
   ]
  },
  {
   "cell_type": "markdown",
   "metadata": {},
   "source": [
    "### Fare analysis"
   ]
  },
  {
   "cell_type": "code",
   "execution_count": 7,
   "metadata": {
    "collapsed": false
   },
   "outputs": [
    {
     "name": "stdout",
     "output_type": "stream",
     "text": [
      "Minimum fare 0.0\n",
      "Maximum fare 512.3292\n",
      "Mean fare 32.2042079685746\n",
      "\n",
      "\n",
      "Average fare for class\n",
      "             Fare\n",
      "Pclass           \n",
      "1       84.154687\n",
      "2       20.662183\n",
      "3       13.675550\n"
     ]
    },
    {
     "data": {
      "text/plain": [
       "<matplotlib.text.Text at 0x114264cf8>"
      ]
     },
     "execution_count": 7,
     "metadata": {},
     "output_type": "execute_result"
    },
    {
     "data": {
      "image/png": "[encoded data removed]",
      "text/plain": [
       "<matplotlib.figure.Figure at 0x116cde208>"
      ]
     },
     "metadata": {},
     "output_type": "display_data"
    }
   ],
   "source": [
    "fare = dataset['Fare']\n",
    "\n",
    "fare_min = fare.min()\n",
    "fare_max = fare.max()\n",
    "fare_mean = fare.mean()\n",
    "\n",
    "print('Minimum fare {}'.format(fare_min))\n",
    "print('Maximum fare {}'.format(fare_max))\n",
    "print('Mean fare {}'.format(fare_mean))\n",
    "print('\\n')\n",
    "\n",
    "print('Average fare for class')\n",
    "\n",
    "pclass_fare_grouped = aggregate_data(dataset, 'Pclass', 'Fare', 'mean')\n",
    "print(pclass_fare_grouped)\n",
    "%matplotlib inline\n",
    "ax = pclass_fare_grouped.plot(kind='bar')\n",
    "ax.set_xlabel('Class')\n",
    "ax.set_ylabel('Amount paid')\n",
    "ax.set_title('Average fare for each class')\n"
   ]
  },
  {
   "cell_type": "markdown",
   "metadata": {},
   "source": [
    "As we could imagine, the highest average fare is paid by the passengers who are travelling in 1st class. Surprisingly there is not a massive difference between the average cost for a ticket of 2nd and 3rd class. "
   ]
  },
  {
   "cell_type": "markdown",
   "metadata": {},
   "source": [
    "### Cabin analysis"
   ]
  },
  {
   "cell_type": "code",
   "execution_count": 8,
   "metadata": {
    "collapsed": false
   },
   "outputs": [
    {
     "name": "stdout",
     "output_type": "stream",
     "text": [
      "Number of cabin for each class\n",
      "        Cabin\n",
      "Pclass       \n",
      "1         176\n",
      "2          16\n",
      "3          12\n"
     ]
    }
   ],
   "source": [
    "cabin = dataset['Cabin']\n",
    "\n",
    "print('Number of cabin for each class')\n",
    "\n",
    "pclass_cabin_grouped = aggregate_data(dataset, 'Pclass', 'Cabin', 'count')\n",
    "print(pclass_cabin_grouped)"
   ]
  },
  {
   "cell_type": "markdown",
   "metadata": {},
   "source": [
    "Just a few amount of cabin were given, mostly to 1st class. Having a cabin definitely costed more money and few people could afford that. "
   ]
  },
  {
   "cell_type": "markdown",
   "metadata": {},
   "source": [
    "## Information about who died/survived"
   ]
  },
  {
   "cell_type": "code",
   "execution_count": 9,
   "metadata": {
    "collapsed": false
   },
   "outputs": [
    {
     "name": "stdout",
     "output_type": "stream",
     "text": [
      "The number of survivors is 342 out of 891, which represent 38.38383838383838% of total\n",
      "\n",
      "\n",
      "Percentage of survivor/died for each sex\n",
      "                  Survived\n",
      "Sex    Survived           \n",
      "female 0         25.796178\n",
      "       1         74.203822\n",
      "male   0         81.109185\n",
      "       1         18.890815\n"
     ]
    },
    {
     "data": {
      "text/plain": [
       "<matplotlib.text.Text at 0x1169f27b8>"
      ]
     },
     "execution_count": 9,
     "metadata": {},
     "output_type": "execute_result"
    },
    {
     "data": {
      "image/png": "[encoded data removed]",
      "text/plain": [
       "<matplotlib.figure.Figure at 0x1143190b8>"
      ]
     },
     "metadata": {},
     "output_type": "display_data"
    }
   ],
   "source": [
    "survivors = sum(dataset['Survived'])\n",
    "print('The number of survivors is {} out of {}, which represent {}% of total'.format(survivors, tot_pass, survivors/tot_pass*100))\n",
    "\n",
    "print('\\n')\n",
    "print('Percentage of survivor/died for each sex')\n",
    "male_female_survived_group = aggregate_multiple_data(dataset, 'Sex', 'Survived', 'Survived','count')\n",
    "male_female_survived = male_female_survived_group.groupby(level=0).apply(lambda x:\n",
    "                                                       100 * x / float(x.sum()))\n",
    "\n",
    "print(male_female_survived)\n",
    "%matplotlib inline\n",
    "ax = male_female_survived.unstack().plot(kind='bar')\n",
    "ax.set_xlabel('Sex')\n",
    "ax.set_ylabel('%')\n",
    "ax.set_title('Percentage of people who died/survived for gender')"
   ]
  },
  {
   "cell_type": "markdown",
   "metadata": {},
   "source": [
    "In this tragic event, just 38% of passengers survived which is not a lot considering the long time the ship took to completely sink. \n",
    "The majority of those survivors were female: as we can clearly see from the graph more than 70% of female survived, against just 20% of men."
   ]
  },
  {
   "cell_type": "code",
   "execution_count": 10,
   "metadata": {
    "collapsed": false
   },
   "outputs": [
    {
     "name": "stdout",
     "output_type": "stream",
     "text": [
      "Average age of survivors\n",
      "Survived      \n",
      "0         mean    30.415100\n",
      "          std     12.457370\n",
      "1         mean    28.549778\n",
      "          std     13.772498\n",
      "Name: Age, dtype: float64\n"
     ]
    },
    {
     "data": {
      "text/plain": [
       "[<matplotlib.text.Text at 0x116f745c0>, <matplotlib.text.Text at 0x116f52668>]"
      ]
     },
     "execution_count": 10,
     "metadata": {},
     "output_type": "execute_result"
    },
    {
     "data": {
      "image/png": "[encoded data removed]",
      "text/plain": [
       "<matplotlib.figure.Figure at 0x116de0630>"
      ]
     },
     "metadata": {},
     "output_type": "display_data"
    },
    {
     "data": {
      "image/png": "[encoded data removed]",
      "text/plain": [
       "<matplotlib.figure.Figure at 0x116e1f4e0>"
      ]
     },
     "metadata": {},
     "output_type": "display_data"
    }
   ],
   "source": [
    "print('Average age of survivors')\n",
    "\n",
    "avg_age= dataset.groupby('Survived')['Age'].describe().loc[:, ['mean', 'std']]\n",
    "print(avg_age)\n",
    "ax1 = dataset['Age'].where(dataset['Survived']==1).hist()\n",
    "ax1.set_xlabel('Age')\n",
    "ax1.set_ylabel('Count')\n",
    "ax1.set_title('Age distribution of who survived')\n",
    "\n",
    "\n",
    "ax2 = dataset.boxplot(column = 'Age', by='Survived')\n",
    "ax2.set_ylabel('Age')\n",
    "ax2.set_xlabel('Survived?')\n",
    "ax2.set_title('')\n",
    "ax2.set_xticklabels(['No', 'Yes'])"
   ]
  },
  {
   "cell_type": "markdown",
   "metadata": {},
   "source": [
    "Let's consider now some metrics regarding the age of who died/survived: if we focus on survivors, their age is slightly lower than people who died. \n",
    "As we can see from the above boxplot, there is a little difference in age between survivors and not. On the other side we can see some outliers for older people as well as a longer lower tail.  \n",
    "Most probably kids were saved together with theirs mum as first."
   ]
  },
  {
   "cell_type": "code",
   "execution_count": 11,
   "metadata": {
    "collapsed": false
   },
   "outputs": [
    {
     "name": "stdout",
     "output_type": "stream",
     "text": [
      "What is the percentage of people who survived in each class?\n",
      "                 PassengerId\n",
      "Pclass Survived             \n",
      "1      0           37.037037\n",
      "       1           62.962963\n",
      "2      0           52.717391\n",
      "       1           47.282609\n",
      "3      0           75.763747\n",
      "       1           24.236253\n",
      "\n",
      "\n"
     ]
    }
   ],
   "source": [
    "print('What is the percentage of people who survived in each class?')\n",
    "pclass_survived_grouped = aggregate_multiple_data(dataset, 'Pclass','Survived', 'PassengerId', 'count')\n",
    "pclass_survived = pclass_survived_grouped.groupby(level=0).apply(lambda x:\n",
    "                                                       100 * x / float(x.sum()))\n",
    "\n",
    "print(pclass_survived)\n",
    "print('\\n')"
   ]
  },
  {
   "cell_type": "markdown",
   "metadata": {},
   "source": [
    "Interesting to notice that 62% of people in 1st class survived against just 24% in 3rd class.. surely this is not random."
   ]
  },
  {
   "cell_type": "code",
   "execution_count": 12,
   "metadata": {
    "collapsed": false
   },
   "outputs": [
    {
     "name": "stdout",
     "output_type": "stream",
     "text": [
      "How many people did not have a cabin? 687\n",
      "          Cabin\n",
      "Survived       \n",
      "0            68\n",
      "1           136\n",
      "\n",
      "\n"
     ]
    }
   ],
   "source": [
    "print('How many people did not have a cabin? {}'.format(sum(dataset['Cabin'].isnull())))\n",
    "\n",
    "cabin_survived_grouped = aggregate_data(dataset, 'Survived','Cabin', 'count')\n",
    "print(cabin_survived_grouped)\n",
    "print('\\n')\n"
   ]
  },
  {
   "cell_type": "markdown",
   "metadata": {},
   "source": [
    "### What influenced the most the fact of surviving or dying?"
   ]
  },
  {
   "cell_type": "code",
   "execution_count": 13,
   "metadata": {
    "collapsed": false
   },
   "outputs": [
    {
     "name": "stdout",
     "output_type": "stream",
     "text": [
      "The correlation between who survived and his/her class is -0.33848103596101536\n",
      "The correlation between who survived and his/her sex is 0.5433513806577552\n",
      "The correlation between who survived and his/her parch is 0.08162940708348349\n",
      "\n",
      "\n",
      "The Chi square value for gender compared to Survived is [ 418.78675645] and the p-value is [  1.88617143e-90]\n",
      "The Chi square value for class compared to Survived is [ 418.21885522] and the p-value is [  3.50723825e-88]\n"
     ]
    }
   ],
   "source": [
    "#let's do some correlation analysis on the variables using Pearsons\n",
    "from pydoc import help\n",
    "from scipy.stats.stats import pearsonr, chisquare\n",
    "\n",
    "#let's transform sex to numerical\n",
    "sex =  dataset['Sex'].map({'male': 0, 'female': 1})\n",
    "\n",
    "#let's calculate correlations\n",
    "corr_class= pearsonr(dataset['Survived'], dataset['Pclass'])\n",
    "corr_sex = pearsonr(dataset['Survived'], sex)\n",
    "corr_parch = pearsonr(dataset['Survived'], dataset['Parch'])\n",
    "\n",
    "print('The correlation between who survived and his/her class is {}'\n",
    "      .format(corr_class[0]))\n",
    "print('The correlation between who survived and his/her sex is {}'\n",
    "      .format(corr_sex[0]))\n",
    "print('The correlation between who survived and his/her parch is {}'\n",
    "      .format(corr_parch[0]))\n",
    "\n",
    "# Now let's perform a chi-square test \n",
    "test_gender = chisquare(male_female_survived_group)\n",
    "test_class = chisquare(pclass_survived_grouped)\n",
    "\n",
    "print('\\n')\n",
    "print('The Chi square value for gender compared to Survived is {} and the p-value is {}'\n",
    "      .format(test_gender[0], test_gender[1]))\n",
    "print('The Chi square value for class compared to Survived is {} and the p-value is {}'\n",
    "      .format(test_class[0], test_class[1]))"
   ]
  },
  {
   "cell_type": "markdown",
   "metadata": {},
   "source": [
    "As we can notice from the analysis done in the first part of this report, the big majority of survivors were women. Also the class played an important role, having more people saved between 1st and 2nd class compared to 3rd.\n",
    "Having a look at the correlation measure between survived and class, we can see that those two variables are negative correlated. Survived and sex have even a stronger correlation. \n",
    "Considering another variable, like survived and parch we see that they are not correlated.\n",
    "Correlation is the measure of the strength of a linear relationship, it does not imply causation.\n",
    "\n",
    "Then we have done two separate chi-squared test to further verify our conviction: \n",
    "- Null hypothesis: sex and survival are independent VS\n",
    "-Alternative hypothesis - women more likely to survive.\n",
    "\n",
    "Considering such a low p value we can accept the alternative hypothesis.\n",
    "\n",
    "For the second chi-squared test, we considered:\n",
    "- Null hypothesis: class and survival are independent VS\n",
    "-Alternative hypothesis - women more likely to survive.\n",
    "\n",
    "As well in this case, considering the low p value, we can accept the alternative hypothesis.\n",
    "\n",
    "We can conclude that in this event 'the women and kids first' rule was applied and as well the class was considered. "
   ]
  },
  {
   "cell_type": "markdown",
   "metadata": {},
   "source": [
    "# Conclusion\n",
    "\n",
    "Our analysis on the data showed that the Titanic was transporting 891 passengers, with a majority of male vs female. The biggest part of them, 70%, was traveling 3rd class, then 17% was in 2nd class and just 10% in 1st. \n",
    "\n",
    "Regarding the tragic event and who survived, we can definitely say that first women and kids were saved: 75% of female survived agaist just 20% of male. This hypothesis is also confirmed by the statistical test we run. \n",
    "At the same time, a higher number of passengers in 1st class survived (65% vs just 25% in 3rd class). Also for this variable a statistical test confirmed this hypothesis.\n",
    "\n",
    "Regarding the dataset we can say it is a bit limited, considering its size as well as missing data. This could skew the results for example in missing ages. For this issue I have chosen to consider the average age, creating a skewed distribution.\n",
    "\n",
    "At the same time, some other variables were not considered at all, like:\n",
    "-information about the crew\n",
    "-number of lifeboat available.\n",
    "\n",
    "Even if not all aspects of this tragic event were taken into consider, we can consider the analysis done quite complete. \n"
   ]
  }
 ],
 "metadata": {
  "kernelspec": {
   "display_name": "Python 3",
   "language": "python",
   "name": "python3"
  },
  "language_info": {
   "codemirror_mode": {
    "name": "ipython",
    "version": 3
   },
   "file_extension": ".py",
   "mimetype": "text/x-python",
   "name": "python",
   "nbconvert_exporter": "python",
   "pygments_lexer": "ipython3",
   "version": "3.6.0"
  }
 },
 "nbformat": 4,
 "nbformat_minor": 2
}
