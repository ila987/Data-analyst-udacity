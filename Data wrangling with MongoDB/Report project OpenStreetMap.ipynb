{
 "cells": [
  {
   "cell_type": "markdown",
   "metadata": {},
   "source": [
    "# OpenStreetMap Sample Project\n",
    "# Data Wrangling with MongoDB"
   ]
  },
  {
   "cell_type": "markdown",
   "metadata": {},
   "source": [
    "In this project I have analysed the OpenStreet data of my own town, Milan in Italy using the link in the section \"Sources/Materials\"."
   ]
  },
  {
   "cell_type": "markdown",
   "metadata": {},
   "source": [
    "##Problems encountered in the map"
   ]
  },
  {
   "cell_type": "markdown",
   "metadata": {},
   "source": [
    "The map comes from a big area in Italy, where naming conventions are different than in US. \n",
    "I firstly analysed street names, without finding anything relevant. In Italy the street name is mentioned as first and usually not abbreviated, so it is easier to have standardized data.\n",
    "\n",
    "I have then analysed postcode: usually all codes should have exactly 5 digits. In the map data I found few codes that were having 4 digits - most probably due to human error.\n",
    "Here below the regex usued to find wrong codes:"
   ]
  },
  {
   "cell_type": "code",
   "execution_count": 1,
   "metadata": {},
   "outputs": [],
   "source": [
    "import re\n",
    "\n",
    "postcode_type_re = re.compile(r'^\\d{1,4}$', re.IGNORECASE)\n",
    "\n",
    "\n",
    "def audit_postcode_type(wrong_postcode, postcode):\n",
    "    r = postcode_type_re.search(postcode)\n",
    "    if r:\n",
    "        wrong_postcode = r.group()\n",
    "        wrong_postcodes[wrong_postcode] += 1\n",
    "        "
   ]
  },
  {
   "cell_type": "markdown",
   "metadata": {},
   "source": [
    "This was corrected manually building a short dictionary to map wrong codes with good ones. This was an easy task because considering this map focuses only on Milan, it was not difficult to figure out which code was intented to use. "
   ]
  },
  {
   "cell_type": "code",
   "execution_count": 2,
   "metadata": {
    "collapsed": true
   },
   "outputs": [],
   "source": [
    "postcodes_tofix = {\n",
    "    \"2090\":\"20090\",\n",
    "    \"2121\":\"20121\",\n",
    "    \"2043\":\"20143\",\n",
    "    \"2014\":\"20124\",\n",
    "    \"2009\":\"20092\",\n",
    "    \"2003\":\"20030\"\n",
    "}"
   ]
  },
  {
   "cell_type": "markdown",
   "metadata": {},
   "source": [
    "In the code I also found that several ways were used to describe the same thing. In particular, some users used the \"telephone\" to add the phone of a particular place, some others \"contact:phone\". The same is applicable to website, url, fax, mail and phone. All those tags were modified to have \"contact:x\" everywhere. During the import of the data, a new dictionary \"contact\" was created to load all those information together. \n",
    "Below some of the code used for the analysis and to fix the issue:\n"
   ]
  },
  {
   "cell_type": "code",
   "execution_count": 3,
   "metadata": {
    "collapsed": true
   },
   "outputs": [],
   "source": [
    "def is_mail_contact(elem):\n",
    "    return (elem.tag == \"tag\") and (elem.attrib['k'] == \"mail\")\n",
    "\n",
    "def is_fax_contact(elem):\n",
    "    return (elem.tag == \"tag\") and (elem.attrib['k'] == \"fax\")\n",
    "\n",
    "def is_phone_contact(elem):\n",
    "    return (elem.tag == \"tag\") and (elem.attrib['k'] == \"phone\")\n",
    "\n",
    "def is_website_contact(elem):\n",
    "    return (elem.tag == \"tag\") and (elem.attrib['k'] == \"website\")\n",
    "\n",
    "def is_url_contact(elem):\n",
    "    return (elem.tag == \"tag\") and (elem.attrib['k'] == \"url\")\n",
    "\n",
    "def audit_contact_type(contact_types, name):\n",
    "    contact_types[name] += 1\n",
    "    \n",
    "def correct_contact_type(contact_type):\n",
    "    return \"contact:\"+ contact_type\n"
   ]
  },
  {
   "cell_type": "markdown",
   "metadata": {},
   "source": [
    "Another problem found in the map, that was not fixed, is about the classification used to label some places. Analysing the leisure and amenity places, I found some that should be part of one category instead of the other one.\n",
    "In particular, all places labeled as gym, lotto, nightclub, picnic_table in amenities, should be put in leisure.\n",
    "\n",
    "This was not performed because the more the data are analysed, more of those inconsistency can be found. "
   ]
  },
  {
   "cell_type": "markdown",
   "metadata": {},
   "source": [
    "##Data overview"
   ]
  },
  {
   "cell_type": "markdown",
   "metadata": {},
   "source": [
    "File sizes:\n",
    "- Milan.osm  780MB\n",
    "- Milan.json 1.14GB\n",
    "\n",
    "Number of documents\n",
    "coll.find().count()\n",
    "4016658\n",
    "\n",
    "Number of nodes\n",
    "coll.find({\"type\": \"node\"}).count()\n",
    "3484193\n",
    "\n",
    "Number of ways\n",
    "coll.find({\"type\": \"way\"}).count()\n",
    "532392\n",
    "\n",
    "Number of unique users\n",
    "len(coll.distinct(\"created.user\"))\n",
    "2410\n",
    "\n",
    "Most contributing user\n",
    "coll.aggregate([{\"$group\":{\"_id\":\"$created.user\", \"count\":{\"$sum\":1}}}, {\"$sort\":{\"count\":-1}}, {\"$limit\":1}])\n",
    "[{u'_id': u'Alecs01', u'count': 594237}]\n",
    "\n",
    "#Find amenities \n",
    "print \"Count of amenities in the data\"\n",
    "aggr = coll.aggregate( [{\"$group\":{\"_id\": \"$amenity\", \"count\":{\"$sum\":1}}}, {\"$sort\":{\"count\":-1}}])\n",
    "pprint(list(aggr))\n",
    "\n",
    "#Find all restaurant in Milan \n",
    "print \"Count of different cuisines in resto in Milan city\"\n",
    "aggr = coll.aggregate( [{\"$match\":{\"address.city\":\"Milano\", \n",
    "                                  \"amenity\":\"restaurant\"}},\n",
    "                       {\"$group\":{\"_id\": \"$cuisine\", \"count\":{\"$sum\":1}}}, {\"$sort\":{\"count\":-1}}])\n",
    "pprint(list(aggr))\n"
   ]
  },
  {
   "cell_type": "markdown",
   "metadata": {},
   "source": [
    "##Future ideas"
   ]
  },
  {
   "cell_type": "markdown",
   "metadata": {},
   "source": [
    "Considering that OpenStreet is an open source project, and contributions are optional, I think that it would still be nice to add a new way of loading information. \n",
    "For the moment, users in average have added 1666 information, which is not a lot compared to the most contributing user. "
   ]
  },
  {
   "cell_type": "raw",
   "metadata": {},
   "source": [
    "# Average of contributing user\n",
    "print \"Most contributing user\"                                                \n",
    "aggr =  coll.aggregate([{\"$group\":{\"_id\":\"$created.user\", \"count\":{\"$sum\":1}}},\n",
    "                        {\"$group\": {\"_id\" : None, \"avg_count\": { \"$avg\": \"$count\" }}}])"
   ]
  },
  {
   "cell_type": "markdown",
   "metadata": {},
   "source": [
    "Why not allowing users to add information in a easier way? Instead of having to add data via a laptop, it would be nice to being able to use a smartphone to automatically add information. How? If you are having a stroll in your city, you could simply use the app of OpenStreet and take a pic of the element you want to add:\n",
    "- if you want to add a new street, simply take a pic of the street name\n",
    "- if you want to add a shop, take a pic of the shop sign.\n",
    "A software would then automatically recognize the items in the picture, giving the user the ability to choose from a list of selected categorizes which one is the most appropriate and ask for more details if needed (like contact info, opening hours, ...).\n",
    "The fact of having an app to populate the map would simplify the process of adding information, making it more fun and also more accurate.\n",
    "What are the problem of this approach?\n",
    "First of all, having a software that can work well recognizing items from a picture is not so straightforward to get. As well as changing the way people add information might be counter-productive: if users are not used to having the OpenStreet app, they might continue to add information in the usual way. Another point is that OpenStreet, which is an opensource, would need to create and maintain their application.\n",
    "What would be the pros?\n",
    "Nowadays everyone has a smartphone and people are used to using app in their day to day life. Giving the users the opportunity to simply add a picture, instead of having to write a street name, it also prevents from typos and other human errors. At the same time, contributors can enjoy adding more information, increasing the average count of contributors information. "
   ]
  }
 ],
 "metadata": {
  "kernelspec": {
   "display_name": "Python 2",
   "language": "python",
   "name": "python2"
  },
  "language_info": {
   "codemirror_mode": {
    "name": "ipython",
    "version": 2
   },
   "file_extension": ".py",
   "mimetype": "text/x-python",
   "name": "python",
   "nbconvert_exporter": "python",
   "pygments_lexer": "ipython2",
   "version": "2.7.13"
  }
 },
 "nbformat": 4,
 "nbformat_minor": 2
}
